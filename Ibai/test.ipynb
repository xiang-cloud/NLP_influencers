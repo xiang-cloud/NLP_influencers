{
 "cells": [
  {
   "cell_type": "code",
   "execution_count": 2,
   "metadata": {},
   "outputs": [],
   "source": [
    "from sklearn.feature_extraction.text import TfidfVectorizer\n",
    "from sklearn.metrics.pairwise import cosine_similarity\n",
    "\n",
    "# Tus textos y descripciones de valores\n",
    "texts = [...]\n",
    "values = [...]\n",
    "descriptions = [...]\n",
    "\n",
    "# Crea una instancia de TfidfVectorizer\n",
    "vectorizer = TfidfVectorizer()\n",
    "\n",
    "# Combina los textos y las descripciones para ajustar el vectorizador\n",
    "all_texts = texts + descriptions\n",
    "vectorizer.fit(all_texts)\n",
    "\n",
    "# Convierte los textos y descripciones en vectores TF-IDF\n",
    "text_vectors = vectorizer.transform(texts)\n",
    "description_vectors = vectorizer.transform(descriptions)\n",
    "\n",
    "# Para cada texto, encuentra el valor con la descripción más similar\n",
    "for text_vector in text_vectors:\n",
    "    # Calcula la similitud del coseno entre el texto y todas las descripciones\n",
    "    similarities = cosine_similarity(text_vector, description_vectors)\n",
    "\n",
    "    # Encuentra el índice de la descripción más similar\n",
    "    most_similar_index = np.argmax(similarities)\n",
    "\n",
    "    # Imprime el valor correspondiente a la descripción más similar\n",
    "    print(values[most_similar_index])\n",
    "\n",
    "\n"
   ]
  },
  {
   "cell_type": "code",
   "execution_count": 3,
   "metadata": {},
   "outputs": [
    {
     "name": "stderr",
     "output_type": "stream",
     "text": [
      "/Library/Frameworks/Python.framework/Versions/3.10/lib/python3.10/site-packages/sklearn/cluster/_kmeans.py:870: FutureWarning: The default value of `n_init` will change from 10 to 'auto' in 1.4. Set the value of `n_init` explicitly to suppress the warning\n",
      "  warnings.warn(\n"
     ]
    }
   ],
   "source": [
    "\n"
   ]
  },
  {
   "cell_type": "code",
   "execution_count": 4,
   "metadata": {},
   "outputs": [
    {
     "data": {
      "text/plain": [
       "array([[0.00012039, 0.00159876, 0.00024378, ..., 0.00019156, 0.00180267,\n",
       "        0.00020648],\n",
       "       [0.        , 0.        , 0.        , ..., 0.        , 0.        ,\n",
       "        0.        ],\n",
       "       [0.        , 0.        , 0.        , ..., 0.        , 0.        ,\n",
       "        0.        ],\n",
       "       [0.        , 0.        , 0.        , ..., 0.        , 0.        ,\n",
       "        0.        ],\n",
       "       [0.        , 0.        , 0.        , ..., 0.        , 0.        ,\n",
       "        0.        ]])"
      ]
     },
     "execution_count": 4,
     "metadata": {},
     "output_type": "execute_result"
    }
   ],
   "source": []
  }
 ],
 "metadata": {
  "kernelspec": {
   "display_name": "Python 3",
   "language": "python",
   "name": "python3"
  },
  "language_info": {
   "codemirror_mode": {
    "name": "ipython",
    "version": 3
   },
   "file_extension": ".py",
   "mimetype": "text/x-python",
   "name": "python",
   "nbconvert_exporter": "python",
   "pygments_lexer": "ipython3",
   "version": "3.10.8"
  },
  "orig_nbformat": 4
 },
 "nbformat": 4,
 "nbformat_minor": 2
}
