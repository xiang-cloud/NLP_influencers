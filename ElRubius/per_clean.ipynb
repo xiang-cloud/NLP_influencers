{
 "cells": [
  {
   "cell_type": "code",
   "execution_count": 6,
   "metadata": {},
   "outputs": [],
   "source": [
    "import pandas as pd"
   ]
  },
  {
   "cell_type": "code",
   "execution_count": 7,
   "metadata": {},
   "outputs": [],
   "source": [
    "df = pd.read_csv('per_data.csv')\n",
    "df['Target'] = df['Target'].str.lower()"
   ]
  },
  {
   "cell_type": "code",
   "execution_count": 8,
   "metadata": {},
   "outputs": [],
   "source": [
    "# Group all variations of a name into a standard form\n",
    "name_mapping = {\n",
    "    'auron': 'auronplay',\n",
    "    'auro': 'auronplay',\n",
    "    'djmariio': 'djmario',\n",
    "    'dj mario': 'djmario',\n",
    "    'mario': 'djmario',\n",
    "    'el rubius': 'elrubis',\n",
    "    'rubius': 'elrubius',\n",
    "    'vegeta': 'vegetta',\n",
    "    'josé josé': 'josé',\n",
    "    'dani': 'daniel',\n",
    "    'danny': 'daniel',\n",
    "    'juanito': 'juan',\n",
    "    'balvin': 'j balvin',\n",
    "    'juanito juanito': 'juan',\n",
    "    'juan juan': 'juan',\n",
    "    'pablito': 'pablo',\n",
    "    'malbet': 'malbert',\n",
    "    'ronaldo': 'cristiano ronaldo',\n",
    "    'cristiano' : 'cristiano ronaldo',\n",
    "    'ronaldo': 'cristiano ronaldo',\n",
    "    'leo messi': 'messi',\n",
    "    'luka modric': 'modric'\n",
    "}\n",
    "\n",
    "df['Target'] = df['Target'].replace(name_mapping)\n"
   ]
  },
  {
   "cell_type": "code",
   "execution_count": 9,
   "metadata": {},
   "outputs": [],
   "source": [
    "# Sum the weights for each standard form\n",
    "final_df = df.groupby(['Source', 'Target']).sum().reset_index()\n"
   ]
  },
  {
   "cell_type": "code",
   "execution_count": 10,
   "metadata": {},
   "outputs": [],
   "source": [
    "final_df.to_csv('refined_per_data.csv', index=False)"
   ]
  }
 ],
 "metadata": {
  "kernelspec": {
   "display_name": "Python 3",
   "language": "python",
   "name": "python3"
  },
  "language_info": {
   "codemirror_mode": {
    "name": "ipython",
    "version": 3
   },
   "file_extension": ".py",
   "mimetype": "text/x-python",
   "name": "python",
   "nbconvert_exporter": "python",
   "pygments_lexer": "ipython3",
   "version": "3.10.8"
  },
  "orig_nbformat": 4
 },
 "nbformat": 4,
 "nbformat_minor": 2
}
