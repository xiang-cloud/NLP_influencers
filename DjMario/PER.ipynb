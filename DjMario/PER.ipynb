{
 "cells": [
  {
   "cell_type": "code",
   "execution_count": 1,
   "metadata": {},
   "outputs": [],
   "source": [
    "import pandas as pd\n",
    "from collections import Counter\n",
    "from flair.models import SequenceTagger\n",
    "from flair.data import Sentence\n",
    "#from joblib import Parallel, delayed, cpu_count"
   ]
  },
  {
   "cell_type": "code",
   "execution_count": 2,
   "metadata": {},
   "outputs": [
    {
     "name": "stdout",
     "output_type": "stream",
     "text": [
      "2023-08-22 17:08:59,379 SequenceTagger predicts: Dictionary with 20 tags: <unk>, O, S-LOC, S-ORG, B-PER, I-PER, E-PER, S-MISC, B-ORG, E-ORG, S-PER, I-ORG, B-LOC, E-LOC, B-MISC, E-MISC, I-MISC, I-LOC, <START>, <STOP>\n"
     ]
    }
   ],
   "source": [
    "# Load the preprocessed data\n",
    "df = pd.read_csv('/Users/andy/Documents/DS/TFM SALLE/project/DjMario/DjMario_videos.csv')\n",
    "\n",
    "# Combine all text columns into a single list\n",
    "texts = df['title'].astype(str).tolist() + df['description'].astype(str).tolist() + df['transcript'].astype(str).tolist()\n",
    "\n",
    "# Load the Flair NER model for Spanish\n",
    "tagger = SequenceTagger.load(\"flair/ner-spanish-large\")\n",
    "\n"
   ]
  },
  {
   "cell_type": "code",
   "execution_count": 3,
   "metadata": {},
   "outputs": [],
   "source": [
    "# list of names to recognize persons \n",
    "influencer_names = [\n",
    "        'ibai',\n",
    "        'auronplay',\n",
    "        'auron',\n",
    "        'marta díaz',\n",
    "        'marta'\n",
    "        'djmario',\n",
    "        'djmariio',\n",
    "        'clakovi',\n",
    "        'elrubius',\n",
    "        'rubius',\n",
    "        'emma chamberlain',\n",
    "        'emma',\n",
    "        'chamberlain',\n",
    "        'malbert',\n",
    "        'mostopapi',\n",
    "        'orslok',\n",
    "        'vegetta',\n",
    "        'vegeta']  "
   ]
  },
  {
   "cell_type": "code",
   "execution_count": 4,
   "metadata": {},
   "outputs": [
    {
     "name": "stdout",
     "output_type": "stream",
     "text": [
      "CPU times: user 9h 2min 51s, sys: 2h 46min 34s, total: 11h 49min 25s\n",
      "Wall time: 3h 11min 9s\n"
     ]
    }
   ],
   "source": [
    "%%time\n",
    "# Perform NER on text data and extract named entities\n",
    "person_entities = []\n",
    "for text in texts:\n",
    "    sentence = Sentence(text)\n",
    "    tagger.predict(sentence)\n",
    "    for entity in sentence.get_spans('ner'):\n",
    "        if entity.labels[0].value == 'PER':\n",
    "            person_entities.append(entity.text)\n",
    "\n",
    "    # Adding custom names detection\n",
    "    for name in influencer_names:\n",
    "        if name.lower() in text.lower():\n",
    "            person_entities.append(name)\n",
    "\n"
   ]
  },
  {
   "cell_type": "code",
   "execution_count": 5,
   "metadata": {},
   "outputs": [],
   "source": [
    "# Count the frequency of person entities\n",
    "entity_frequencies = Counter(person_entities)\n",
    "\n",
    "# Create a DataFrame and export to CSV\n",
    "df_export = pd.DataFrame({\n",
    "    'Source': ['YouTuber'] * len(entity_frequencies),\n",
    "    'Target': list(entity_frequencies.keys()),\n",
    "    'Weight': list(entity_frequencies.values())\n",
    "})\n",
    "\n",
    "df_export.to_csv('per_data.csv', index=False)"
   ]
  }
 ],
 "metadata": {
  "kernelspec": {
   "display_name": "Python 3",
   "language": "python",
   "name": "python3"
  },
  "language_info": {
   "codemirror_mode": {
    "name": "ipython",
    "version": 3
   },
   "file_extension": ".py",
   "mimetype": "text/x-python",
   "name": "python",
   "nbconvert_exporter": "python",
   "pygments_lexer": "ipython3",
   "version": "3.10.8"
  },
  "orig_nbformat": 4
 },
 "nbformat": 4,
 "nbformat_minor": 2
}
