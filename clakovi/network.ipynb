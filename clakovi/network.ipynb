{
 "cells": [
  {
   "cell_type": "code",
   "execution_count": 1,
   "metadata": {},
   "outputs": [],
   "source": [
    "import pandas as pd\n",
    "import networkx as nx\n",
    "import matplotlib.pyplot as plt"
   ]
  },
  {
   "cell_type": "code",
   "execution_count": 2,
   "metadata": {},
   "outputs": [
    {
     "name": "stdout",
     "output_type": "stream",
     "text": [
      "Warning: When  cdn_resources is 'local' jupyter notebook has issues displaying graphics on chrome/safari. Use cdn_resources='in_line' or cdn_resources='remote' if you have issues viewing graphics in a notebook.\n",
      "network.html\n"
     ]
    },
    {
     "data": {
      "text/html": [
       "\n",
       "        <iframe\n",
       "            width=\"100%\"\n",
       "            height=\"600px\"\n",
       "            src=\"network.html\"\n",
       "            frameborder=\"0\"\n",
       "            allowfullscreen\n",
       "            \n",
       "        ></iframe>\n",
       "        "
      ],
      "text/plain": [
       "<IPython.lib.display.IFrame at 0x12ff1d390>"
      ]
     },
     "execution_count": 2,
     "metadata": {},
     "output_type": "execute_result"
    }
   ],
   "source": [
    "from pyvis.network import Network\n",
    "import numpy as np\n",
    "\n",
    "# Load your CSV\n",
    "df = pd.read_csv('refined_per_data.csv')\n",
    "\n",
    "# filter weights <= 10 but save the list of inlfuencers\n",
    "influencers = [\n",
    "    'ibai',\n",
    "    'auronplay',\n",
    "    'marta díaz',\n",
    "    'djmario',\n",
    "    'clakovi',\n",
    "    'elrubius',\n",
    "    'emma chamberlain',\n",
    "    'malbert',\n",
    "    'mostopapi',\n",
    "    'orslok',\n",
    "    'vegetta'\n",
    "]\n",
    "\n",
    "df = df[(df['Weight'] > 1 ) | (df['Target'].isin(influencers))]\n",
    "\n",
    "\n",
    "# Determine the 10th and 90th percentile weights\n",
    "lower_bound = np.percentile(df['Weight'], 10)\n",
    "upper_bound = np.percentile(df['Weight'], 90)\n",
    "\n",
    "# Calculate cumulative weight for each target node\n",
    "node_weights = df.groupby('Target')['Weight'].sum().to_dict()\n",
    "\n",
    "# Normalize node sizes for visualization\n",
    "min_node_size = 10\n",
    "max_node_size = 50\n",
    "node_sizes = {\n",
    "    node: np.interp(weight, (min(node_weights.values()), max(node_weights.values())), (min_node_size, max_node_size))\n",
    "    for node, weight in node_weights.items()\n",
    "}\n",
    "\n",
    "# Create a pyvis network\n",
    "net = Network(notebook=True)\n",
    "\n",
    "# Add nodes with sizes based on cumulative weights\n",
    "for node in pd.concat([df['Source'], df['Target']]).unique():  # Ensure every unique node is added\n",
    "    size = node_sizes.get(node, min_node_size)  # If a node doesn't have a cumulative weight, use the minimum size\n",
    "    net.add_node(node, size=size)\n",
    "\n",
    "# Add edges with widths based on individual weights\n",
    "for index, row in df.iterrows():\n",
    "    source = row['Source']\n",
    "    target = row['Target']\n",
    "    weight = row['Weight']\n",
    "    \n",
    "    # Normalize edge width\n",
    "    width = np.interp(weight, (lower_bound, upper_bound), (0.5, 5))\n",
    "    \n",
    "    net.add_edge(source, target, width=width)\n",
    "\n",
    "# Display the network\n",
    "net.show(\"network.html\")\n",
    "\n",
    "\n"
   ]
  },
  {
   "cell_type": "code",
   "execution_count": 3,
   "metadata": {},
   "outputs": [
    {
     "data": {
      "text/html": [
       "<style type=\"text/css\">\n",
       "#T_e3d84_row0_col2 {\n",
       "  background-color: #08306b;\n",
       "  color: #f1f1f1;\n",
       "}\n",
       "#T_e3d84_row1_col2 {\n",
       "  background-color: #d9e8f5;\n",
       "  color: #000000;\n",
       "}\n",
       "#T_e3d84_row2_col2 {\n",
       "  background-color: #f2f8fd;\n",
       "  color: #000000;\n",
       "}\n",
       "#T_e3d84_row3_col2, #T_e3d84_row4_col2 {\n",
       "  background-color: #f5fafe;\n",
       "  color: #000000;\n",
       "}\n",
       "#T_e3d84_row5_col2, #T_e3d84_row6_col2, #T_e3d84_row7_col2, #T_e3d84_row8_col2, #T_e3d84_row9_col2, #T_e3d84_row10_col2, #T_e3d84_row11_col2, #T_e3d84_row12_col2 {\n",
       "  background-color: #f7fbff;\n",
       "  color: #000000;\n",
       "}\n",
       "</style>\n",
       "<table id=\"T_e3d84\">\n",
       "  <thead>\n",
       "    <tr>\n",
       "      <th class=\"blank level0\" >&nbsp;</th>\n",
       "      <th id=\"T_e3d84_level0_col0\" class=\"col_heading level0 col0\" >Source</th>\n",
       "      <th id=\"T_e3d84_level0_col1\" class=\"col_heading level0 col1\" >Target</th>\n",
       "      <th id=\"T_e3d84_level0_col2\" class=\"col_heading level0 col2\" >Weight</th>\n",
       "    </tr>\n",
       "  </thead>\n",
       "  <tbody>\n",
       "    <tr>\n",
       "      <th id=\"T_e3d84_level0_row0\" class=\"row_heading level0 row0\" >17</th>\n",
       "      <td id=\"T_e3d84_row0_col0\" class=\"data row0 col0\" >YouTuber</td>\n",
       "      <td id=\"T_e3d84_row0_col1\" class=\"data row0 col1\" >clakovi</td>\n",
       "      <td id=\"T_e3d84_row0_col2\" class=\"data row0 col2\" >379</td>\n",
       "    </tr>\n",
       "    <tr>\n",
       "      <th id=\"T_e3d84_level0_row1\" class=\"row_heading level0 row1\" >22</th>\n",
       "      <td id=\"T_e3d84_row1_col0\" class=\"data row1 col0\" >YouTuber</td>\n",
       "      <td id=\"T_e3d84_row1_col1\" class=\"data row1 col1\" >clarakongvila</td>\n",
       "      <td id=\"T_e3d84_row1_col2\" class=\"data row1 col2\" >59</td>\n",
       "    </tr>\n",
       "    <tr>\n",
       "      <th id=\"T_e3d84_level0_row2\" class=\"row_heading level0 row2\" >20</th>\n",
       "      <td id=\"T_e3d84_row2_col0\" class=\"data row2 col0\" >YouTuber</td>\n",
       "      <td id=\"T_e3d84_row2_col1\" class=\"data row2 col1\" >clara kong vila</td>\n",
       "      <td id=\"T_e3d84_row2_col2\" class=\"data row2 col2\" >12</td>\n",
       "    </tr>\n",
       "    <tr>\n",
       "      <th id=\"T_e3d84_level0_row3\" class=\"row_heading level0 row3\" >9</th>\n",
       "      <td id=\"T_e3d84_row3_col0\" class=\"data row3 col0\" >YouTuber</td>\n",
       "      <td id=\"T_e3d84_row3_col1\" class=\"data row3 col1\" >brandy melville</td>\n",
       "      <td id=\"T_e3d84_row3_col2\" class=\"data row3 col2\" >6</td>\n",
       "    </tr>\n",
       "    <tr>\n",
       "      <th id=\"T_e3d84_level0_row4\" class=\"row_heading level0 row4\" >63</th>\n",
       "      <td id=\"T_e3d84_row4_col0\" class=\"data row4 col0\" >YouTuber</td>\n",
       "      <td id=\"T_e3d84_row4_col1\" class=\"data row4 col1\" >tyler</td>\n",
       "      <td id=\"T_e3d84_row4_col2\" class=\"data row4 col2\" >6</td>\n",
       "    </tr>\n",
       "    <tr>\n",
       "      <th id=\"T_e3d84_level0_row5\" class=\"row_heading level0 row5\" >2</th>\n",
       "      <td id=\"T_e3d84_row5_col0\" class=\"data row5 col0\" >YouTuber</td>\n",
       "      <td id=\"T_e3d84_row5_col1\" class=\"data row5 col1\" >alex.scalbert</td>\n",
       "      <td id=\"T_e3d84_row5_col2\" class=\"data row5 col2\" >2</td>\n",
       "    </tr>\n",
       "    <tr>\n",
       "      <th id=\"T_e3d84_level0_row6\" class=\"row_heading level0 row6\" >4</th>\n",
       "      <td id=\"T_e3d84_row6_col0\" class=\"data row6 col0\" >YouTuber</td>\n",
       "      <td id=\"T_e3d84_row6_col1\" class=\"data row6 col1\" >augustana</td>\n",
       "      <td id=\"T_e3d84_row6_col2\" class=\"data row6 col2\" >2</td>\n",
       "    </tr>\n",
       "    <tr>\n",
       "      <th id=\"T_e3d84_level0_row7\" class=\"row_heading level0 row7\" >15</th>\n",
       "      <td id=\"T_e3d84_row7_col0\" class=\"data row7 col0\" >YouTuber</td>\n",
       "      <td id=\"T_e3d84_row7_col1\" class=\"data row7 col1\" >carolina herrera</td>\n",
       "      <td id=\"T_e3d84_row7_col2\" class=\"data row7 col2\" >2</td>\n",
       "    </tr>\n",
       "    <tr>\n",
       "      <th id=\"T_e3d84_level0_row8\" class=\"row_heading level0 row8\" >18</th>\n",
       "      <td id=\"T_e3d84_row8_col0\" class=\"data row8 col0\" >YouTuber</td>\n",
       "      <td id=\"T_e3d84_row8_col1\" class=\"data row8 col1\" >clara</td>\n",
       "      <td id=\"T_e3d84_row8_col2\" class=\"data row8 col2\" >2</td>\n",
       "    </tr>\n",
       "    <tr>\n",
       "      <th id=\"T_e3d84_level0_row9\" class=\"row_heading level0 row9\" >26</th>\n",
       "      <td id=\"T_e3d84_row9_col0\" class=\"data row9 col0\" >YouTuber</td>\n",
       "      <td id=\"T_e3d84_row9_col1\" class=\"data row9 col1\" >david hockney</td>\n",
       "      <td id=\"T_e3d84_row9_col2\" class=\"data row9 col2\" >2</td>\n",
       "    </tr>\n",
       "    <tr>\n",
       "      <th id=\"T_e3d84_level0_row10\" class=\"row_heading level0 row10\" >36</th>\n",
       "      <td id=\"T_e3d84_row10_col0\" class=\"data row10 col0\" >YouTuber</td>\n",
       "      <td id=\"T_e3d84_row10_col1\" class=\"data row10 col1\" >kandinsky</td>\n",
       "      <td id=\"T_e3d84_row10_col2\" class=\"data row10 col2\" >2</td>\n",
       "    </tr>\n",
       "    <tr>\n",
       "      <th id=\"T_e3d84_level0_row11\" class=\"row_heading level0 row11\" >42</th>\n",
       "      <td id=\"T_e3d84_row11_col0\" class=\"data row11 col0\" >YouTuber</td>\n",
       "      <td id=\"T_e3d84_row11_col1\" class=\"data row11 col1\" >manuel</td>\n",
       "      <td id=\"T_e3d84_row11_col2\" class=\"data row11 col2\" >2</td>\n",
       "    </tr>\n",
       "    <tr>\n",
       "      <th id=\"T_e3d84_level0_row12\" class=\"row_heading level0 row12\" >65</th>\n",
       "      <td id=\"T_e3d84_row12_col0\" class=\"data row12 col0\" >YouTuber</td>\n",
       "      <td id=\"T_e3d84_row12_col1\" class=\"data row12 col1\" >vegetta</td>\n",
       "      <td id=\"T_e3d84_row12_col2\" class=\"data row12 col2\" >2</td>\n",
       "    </tr>\n",
       "  </tbody>\n",
       "</table>\n"
      ],
      "text/plain": [
       "<pandas.io.formats.style.Styler at 0x103f1d390>"
      ]
     },
     "metadata": {},
     "output_type": "display_data"
    }
   ],
   "source": [
    "from IPython.display import display\n",
    "\n",
    "# Sort the dataframe by 'Weight' in descending order\n",
    "sorted_df = df.sort_values(by='Weight', ascending=False)\n",
    "\n",
    "# Use pandas styling to highlight the 'Weight' column with a gradient and display the top rows \n",
    "display(sorted_df.head(20).style.background_gradient(cmap='Blues', subset=['Weight']))\n"
   ]
  },
  {
   "cell_type": "code",
   "execution_count": 4,
   "metadata": {},
   "outputs": [
    {
     "data": {
      "text/html": [
       "<style type=\"text/css\">\n",
       "#T_3631f_row0_col2 {\n",
       "  background-color: #08306b;\n",
       "  color: #f1f1f1;\n",
       "}\n",
       "#T_3631f_row1_col2 {\n",
       "  background-color: #f7fbff;\n",
       "  color: #000000;\n",
       "}\n",
       "</style>\n",
       "<table id=\"T_3631f\">\n",
       "  <thead>\n",
       "    <tr>\n",
       "      <th class=\"blank level0\" >&nbsp;</th>\n",
       "      <th id=\"T_3631f_level0_col0\" class=\"col_heading level0 col0\" >Source</th>\n",
       "      <th id=\"T_3631f_level0_col1\" class=\"col_heading level0 col1\" >Target</th>\n",
       "      <th id=\"T_3631f_level0_col2\" class=\"col_heading level0 col2\" >Weight</th>\n",
       "    </tr>\n",
       "  </thead>\n",
       "  <tbody>\n",
       "    <tr>\n",
       "      <th id=\"T_3631f_level0_row0\" class=\"row_heading level0 row0\" >17</th>\n",
       "      <td id=\"T_3631f_row0_col0\" class=\"data row0 col0\" >YouTuber</td>\n",
       "      <td id=\"T_3631f_row0_col1\" class=\"data row0 col1\" >clakovi</td>\n",
       "      <td id=\"T_3631f_row0_col2\" class=\"data row0 col2\" >379</td>\n",
       "    </tr>\n",
       "    <tr>\n",
       "      <th id=\"T_3631f_level0_row1\" class=\"row_heading level0 row1\" >65</th>\n",
       "      <td id=\"T_3631f_row1_col0\" class=\"data row1 col0\" >YouTuber</td>\n",
       "      <td id=\"T_3631f_row1_col1\" class=\"data row1 col1\" >vegetta</td>\n",
       "      <td id=\"T_3631f_row1_col2\" class=\"data row1 col2\" >2</td>\n",
       "    </tr>\n",
       "  </tbody>\n",
       "</table>\n"
      ],
      "text/plain": [
       "<pandas.io.formats.style.Styler at 0x12ff1e620>"
      ]
     },
     "metadata": {},
     "output_type": "display_data"
    }
   ],
   "source": [
    "# Filter the DataFrame to only show rows corresponding to the influencers\n",
    "filtered_df = df[df['Target'].isin(influencers)]\n",
    "\n",
    "# Sort by weight in descending order\n",
    "filtered_df = filtered_df.sort_values(by='Weight', ascending=False)\n",
    "\n",
    "# Display the table\n",
    "display(filtered_df.style.background_gradient(cmap='Blues', subset=['Weight']))"
   ]
  },
  {
   "cell_type": "code",
   "execution_count": 5,
   "metadata": {},
   "outputs": [
    {
     "name": "stdout",
     "output_type": "stream",
     "text": [
      "     Source   Target  Weight\n",
      "65  clakovi  vegetta       2\n"
     ]
    }
   ],
   "source": [
    "# Convert the 'Source' column to the first name of the 'Target' column\n",
    "filtered_df['Source'] = filtered_df['Target'].iloc[0]\n",
    "\n",
    "# Remove the first row\n",
    "filtered_df = filtered_df.iloc[1:]\n",
    "\n",
    "print(filtered_df)\n",
    "\n",
    "# Export the new DataFrame to CSV\n",
    "filtered_df.to_csv('PER_filtered_data.csv', index=False)"
   ]
  }
 ],
 "metadata": {
  "kernelspec": {
   "display_name": "Python 3",
   "language": "python",
   "name": "python3"
  },
  "language_info": {
   "codemirror_mode": {
    "name": "ipython",
    "version": 3
   },
   "file_extension": ".py",
   "mimetype": "text/x-python",
   "name": "python",
   "nbconvert_exporter": "python",
   "pygments_lexer": "ipython3",
   "version": "3.10.8"
  },
  "orig_nbformat": 4
 },
 "nbformat": 4,
 "nbformat_minor": 2
}
