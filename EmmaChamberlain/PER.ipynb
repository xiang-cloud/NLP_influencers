{
 "cells": [
  {
   "cell_type": "code",
   "execution_count": 11,
   "metadata": {},
   "outputs": [],
   "source": [
    "import pandas as pd\n",
    "from collections import Counter\n",
    "from flair.models import SequenceTagger\n",
    "from flair.data import Sentence\n",
    "#from joblib import Parallel, delayed, cpu_count"
   ]
  },
  {
   "cell_type": "code",
   "execution_count": 12,
   "metadata": {},
   "outputs": [],
   "source": [
    "# Load data\n",
    "df = pd.read_csv('/Users/andy/Documents/DS/TFM SALLE/project/EmmaChamberlain/Emma Chamberlain_videos.csv')\n",
    "\n",
    "# Combine all text columns into a single list\n",
    "texts = df['title'].astype(str).tolist() + df['description'].astype(str).tolist() + df['transcript'].astype(str).tolist()\n",
    "\n",
    "# Load the Flair NER model for Spanish\n",
    "tagger = SequenceTagger.load(\"flair/ner-english-large\")\n",
    "\n"
   ]
  },
  {
   "cell_type": "code",
   "execution_count": null,
   "metadata": {},
   "outputs": [],
   "source": [
    "# list of names to recognize persons \n",
    "influencer_names = [\n",
    "        'ibai',\n",
    "        'auronplay',\n",
    "        'auron',\n",
    "        'marta díaz',\n",
    "        'marta'\n",
    "        'djmario',\n",
    "        'djmariio',\n",
    "        'clakovi',\n",
    "        'elrubius',\n",
    "        'rubius',\n",
    "        'emma chamberlain',\n",
    "        'emma',\n",
    "        'chamberlain',\n",
    "        'malbert',\n",
    "        'mostopapi',\n",
    "        'orslok',\n",
    "        'vegetta']  "
   ]
  },
  {
   "cell_type": "code",
   "execution_count": null,
   "metadata": {},
   "outputs": [
    {
     "name": "stdout",
     "output_type": "stream",
     "text": [
      "CPU times: user 1h 41min 7s, sys: 19min 54s, total: 2h 1min 2s\n",
      "Wall time: 33min 23s\n"
     ]
    }
   ],
   "source": [
    "%%time\n",
    "\n",
    "# Perform NER on text data and extract named entities\n",
    "person_entities = []\n",
    "for text in texts:\n",
    "    sentence = Sentence(text)\n",
    "    tagger.predict(sentence)\n",
    "    for entity in sentence.get_spans('ner'):\n",
    "        if entity.labels[0].value == 'PER':\n",
    "            person_entities.append(entity.text)\n",
    "\n",
    "    # Adding custom names detection\n",
    "    for name in influencer_names:\n",
    "        if name.lower() in text.lower():\n",
    "            person_entities.append(name)\n",
    "\n"
   ]
  },
  {
   "cell_type": "code",
   "execution_count": null,
   "metadata": {},
   "outputs": [],
   "source": [
    "# Count the frequency of person entities\n",
    "entity_frequencies = Counter(person_entities)\n",
    "\n",
    "# Create a DataFrame and export to CSV\n",
    "df_export = pd.DataFrame({\n",
    "    'Source': ['YouTuber'] * len(entity_frequencies),\n",
    "    'Target': list(entity_frequencies.keys()),\n",
    "    'Weight': list(entity_frequencies.values())\n",
    "})\n",
    "\n",
    "df_export.to_csv('per_data.csv', index=False)"
   ]
  }
 ],
 "metadata": {
  "kernelspec": {
   "display_name": "Python 3",
   "language": "python",
   "name": "python3"
  },
  "language_info": {
   "codemirror_mode": {
    "name": "ipython",
    "version": 3
   },
   "file_extension": ".py",
   "mimetype": "text/x-python",
   "name": "python",
   "nbconvert_exporter": "python",
   "pygments_lexer": "ipython3",
   "version": "3.10.8"
  },
  "orig_nbformat": 4
 },
 "nbformat": 4,
 "nbformat_minor": 2
}
