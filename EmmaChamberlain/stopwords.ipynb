{
 "cells": [
  {
   "cell_type": "code",
   "execution_count": 2,
   "metadata": {},
   "outputs": [
    {
     "name": "stdout",
     "output_type": "stream",
     "text": [
      "{'give', 'own', 'that', 'might', 'were', 'themselves', 'first', 'five', 'nowhere', 'some', 'can', 'formerly', 'could', 'whereupon', 'neither', 'thereby', 'throughout', 'two', 'too', 'over', 'others', 'whereas', 'or', 'indeed', 'used', 'for', 'further', 'thru', 'unless', 'twelve', 'top', 'already', 'where', 'up', 'whoever', 'anywhere', 'enough', 'each', 'seeming', 'except', 'hence', 'move', 'per', 'out', 'beforehand', '’m', 'go', 'whenever', 'one', 'nobody', 'using', 'often', 'perhaps', 'his', 'the', 'are', '‘m', 'side', 'eight', 'they', 'none', 'due', 'twenty', 'your', 'wherein', 'which', 'back', '‘re', 'everyone', 'because', 'nine', 'sixty', 'whole', 'behind', 'these', 'mostly', 'though', 'what', 'seems', 'together', 'toward', 'whose', 'has', 'as', 'had', 'name', '’s', 'than', 'well', 'whereby', 'along', 'everything', 'in', 'meanwhile', 'it', 'someone', 'becomes', '’re', 'take', 'latter', 'last', 'whom', 'therefore', 'ours', \"'ve\", 'nor', 'rather', 'but', 'if', 'hers', 'above', 'therein', 'although', 'does', 'more', 'been', 'you', 'never', 'hundred', 'other', 'somewhere', 'see', 'do', 'how', 'have', 'by', 'who', 'former', 'yourselves', 'at', 'hereby', 'call', 'beside', 'anything', 'him', 'both', 'full', 'elsewhere', 'us', 'however', 'itself', 'whence', 'every', 'since', 'ten', 'eleven', 'here', 'alone', 'besides', 'amount', 'n‘t', 'cannot', 'empty', \"'s\", 'become', 'down', 'serious', 'done', 'upon', 'also', 'under', 'ever', 'not', 'against', 'else', 'hereafter', 'then', 'to', 'next', 'thence', 'thereupon', 'show', 'six', 'moreover', 'would', 'ca', 'whereafter', 'forty', \"'d\", 'became', 'hereupon', 'really', 'almost', 'so', 'part', 'he', \"'m\", 'any', 'several', 'yours', 'me', 'around', 'about', 'be', 'again', 'ourselves', 'yet', 'being', 'its', 'keep', 'n’t', 'through', 'we', 'their', 'doing', 'say', '‘ll', 'anyone', 'put', '‘d', 'nothing', 'regarding', 'quite', 'still', 'herself', '’d', 'yourself', 'is', 'this', 'latterly', 'within', 'no', 'from', 'same', 'there', 'must', 're', 'sometimes', 'anyhow', 'amongst', 'most', 'whatever', 'all', 'anyway', 'whether', 'noone', 'my', 'either', 'of', 'nevertheless', 'without', 'bottom', 'herein', 'she', 'fifty', 'less', 'am', \"'re\", '’ve', 'until', 'beyond', 'various', 'afterwards', 'and', 'those', 'will', 'into', 'once', 'very', 'i', 'off', 'just', \"n't\", 'mine', 'himself', 'four', '‘ve', 'while', 'a', 'below', 'somehow', 'few', 'with', 'our', 'please', 'becoming', 'during', 'whither', 'myself', 'made', 'such', 'may', 'an', 'thereafter', 'even', 'another', 'make', 'them', 'three', 'after', 'fifteen', 'between', 'get', 'always', 'seemed', 'much', 'across', 'towards', 'seem', 'namely', 'everywhere', 'third', 'sometime', \"'ll\", 'thus', 'should', 'her', 'otherwise', 'was', 'now', 'on', 'why', 'only', 'when', 'onto', 'something', '’ll', 'least', 'did', 'via', 'among', 'front', 'before', 'wherever', '‘s', 'many'}\n"
     ]
    }
   ],
   "source": [
    "import spacy\n",
    "\n",
    "# Load the English model from spaCy\n",
    "nlp = spacy.load('en_core_web_md')\n",
    "\n",
    "# Get the list of stop words\n",
    "stop_words = nlp.Defaults.stop_words\n",
    "\n",
    "# Print the stop words\n",
    "print(stop_words)"
   ]
  }
 ],
 "metadata": {
  "kernelspec": {
   "display_name": "Python 3",
   "language": "python",
   "name": "python3"
  },
  "language_info": {
   "codemirror_mode": {
    "name": "ipython",
    "version": 3
   },
   "file_extension": ".py",
   "mimetype": "text/x-python",
   "name": "python",
   "nbconvert_exporter": "python",
   "pygments_lexer": "ipython3",
   "version": "3.10.8"
  },
  "orig_nbformat": 4
 },
 "nbformat": 4,
 "nbformat_minor": 2
}
